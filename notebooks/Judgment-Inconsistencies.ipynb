{
 "cells": [
  {
   "cell_type": "code",
   "execution_count": 54,
   "metadata": {},
   "outputs": [],
   "source": [
    "from IPython.display import display, Markdown, Latex\n",
    "import json\n",
    "\n",
    "def f(number):\n",
    "    return \"{0:.5f}\".format(number)\n",
    "\n",
    "def raw_judgment_evaluations():\n",
    "    with open('../judgment-inconsistencies.jsonl', 'r') as f:\n",
    "        for line in f:\n",
    "            yield json.loads(line)\n",
    "\n",
    "def report_header():\n",
    "    return \"# Inconsistencies within Judgments\\n\\n\"\n",
    "\n",
    "def table_header():\n",
    "    return '|SharedTask|ConsistentGroups|InconsistentGroups|Ratio (inconsistent/consistent)|Judgments|Rejudgments|Ratio(inconsistent/judged)|\\n' + \\\n",
    "           '|:---------|---------------:|-----------------:|------------------------------:|--------:|----------:|-------------------------:|\\n'\n",
    "\n",
    "def table_row(evaluation):\n",
    "    return '|' + evaluation['SharedTask'] + '|' + evaluation['ConsistentGroups'] +\\\n",
    "           '|' + evaluation['InconsistentGroups'] + '|' +\\\n",
    "                 f(int(evaluation['InconsistentGroups'])/int(evaluation['ConsistentGroups'])) +\\\n",
    "           '|' + evaluation['JudgmentCount'] + '|' + evaluation['DocumentsToJudgeAgain'] +\\\n",
    "           '|' + f(int(evaluation['InconsistentGroups'])/int(evaluation['JudgmentCount']))\n",
    "\n",
    "def table():\n",
    "    return table_header() + '\\n'.join((table_row(i) for i in raw_judgment_evaluations())) + '\\n\\n'\n",
    "\n",
    "def report():\n",
    "    markdownReport = report_header() + table()\n",
    "    display(Markdown(markdownReport))"
   ]
  },
  {
   "cell_type": "code",
   "execution_count": 55,
   "metadata": {},
   "outputs": [
    {
     "data": {
      "text/markdown": [
       "# Inconsistencies within Judgments\n",
       "\n",
       "|SharedTask|ConsistentGroups|InconsistentGroups|Ratio (inconsistent/consistent)|Judgments|Rejudgments|Ratio(inconsistent/judged)|\n",
       "|:---------|---------------:|-----------------:|------------------------------:|--------:|----------:|-------------------------:|\n",
       "|TERABYTE_2004|341028|1557|0.00457|58077|2704955|0.02681\n",
       "|TERABYTE_2005_ADHOC|341583|1002|0.00293|45291|342690|0.02212\n",
       "|TERABYTE_2006|341769|816|0.00239|31984|1798641|0.02551\n",
       "|CORE_2017|24326|124|0.00510|30030|537|0.00413\n",
       "|CORE_2018|26801|856|0.03194|26233|6477|0.03263\n",
       "\n"
      ],
      "text/plain": [
       "<IPython.core.display.Markdown object>"
      ]
     },
     "metadata": {},
     "output_type": "display_data"
    }
   ],
   "source": [
    "report()"
   ]
  }
 ],
 "metadata": {
  "kernelspec": {
   "display_name": "Python 3",
   "language": "python",
   "name": "python3"
  },
  "language_info": {
   "codemirror_mode": {
    "name": "ipython",
    "version": 3
   },
   "file_extension": ".py",
   "mimetype": "text/x-python",
   "name": "python",
   "nbconvert_exporter": "python",
   "pygments_lexer": "ipython3",
   "version": "3.5.2"
  }
 },
 "nbformat": 4,
 "nbformat_minor": 2
}
