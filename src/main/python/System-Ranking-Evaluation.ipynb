{
 "cells": [
  {
   "cell_type": "markdown",
   "metadata": {
    "variables": {
     "len(trec_system_rankings)": "1"
    }
   },
   "source": [
    "# System Ranking Evaluation\n",
    "\n",
    "We have **{{len(trec_system_rankings)}}** trec system rankings."
   ]
  },
  {
   "cell_type": "code",
   "execution_count": 1,
   "metadata": {},
   "outputs": [],
   "source": [
    "import util\n",
    "\n",
    "trec_system_rankings = util.all_files_in_hdfs_dir('/corpora/corpus-trec-system-results')"
   ]
  },
  {
   "cell_type": "code",
   "execution_count": null,
   "metadata": {},
   "outputs": [],
   "source": []
  }
 ],
 "metadata": {
  "kernelspec": {
   "display_name": "PySpark BETAWEB",
   "language": "python",
   "name": "pyspark-betaweb"
  },
  "language_info": {
   "codemirror_mode": {
    "name": "ipython",
    "version": 3
   },
   "file_extension": ".py",
   "mimetype": "text/x-python",
   "name": "python",
   "nbconvert_exporter": "python",
   "pygments_lexer": "ipython3",
   "version": "3.5.2"
  }
 },
 "nbformat": 4,
 "nbformat_minor": 2
}
